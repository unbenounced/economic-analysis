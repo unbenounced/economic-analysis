{
 "cells": [
  {
   "cell_type": "code",
   "execution_count": 3,
   "id": "3adc0b44",
   "metadata": {},
   "outputs": [],
   "source": [
    "!pip install fredapi > null"
   ]
  },
  {
   "cell_type": "code",
   "execution_count": 7,
   "id": "5e5c902a",
   "metadata": {},
   "outputs": [],
   "source": [
    "import pandas as pd\n",
    "import numpy as np\n",
    "import matplotlib.pyplot as plt\n",
    "import plotly.express as px\n",
    "\n",
    "plt.style.use('fivethirtyeight')\n",
    "pd.set_option('display.max_columns', 500)\n",
    "color_pal = plt.rcParams[\"axes.prop_cycle\"].by_key()[\"color\"]\n",
    "\n",
    "from fredapi import Fred\n",
    "\n",
    "fred_key = '9ca944cf88a4cf16b87a3d012ec8bf29'"
   ]
  },
  {
   "cell_type": "code",
   "execution_count": 8,
   "id": "3f7d17a5",
   "metadata": {},
   "outputs": [],
   "source": [
    "#FRED object\n",
    "fred = Fred(api_key=fred_key)"
   ]
  },
  {
   "cell_type": "code",
   "execution_count": 14,
   "id": "4f8529af",
   "metadata": {},
   "outputs": [],
   "source": [
    "sp_search = fred.search('S&P', order_by='popularity')"
   ]
  },
  {
   "cell_type": "code",
   "execution_count": 15,
   "id": "a7e1b450",
   "metadata": {},
   "outputs": [
    {
     "data": {
      "text/plain": [
       "2014-07-16    1981.57\n",
       "2014-07-17    1958.12\n",
       "2014-07-18    1978.22\n",
       "2014-07-21    1973.63\n",
       "2014-07-22    1983.53\n",
       "               ...   \n",
       "2024-07-09    5576.98\n",
       "2024-07-10    5633.91\n",
       "2024-07-11    5584.54\n",
       "2024-07-12    5615.35\n",
       "2024-07-15    5631.22\n",
       "Length: 2609, dtype: float64"
      ]
     },
     "execution_count": 15,
     "metadata": {},
     "output_type": "execute_result"
    }
   ],
   "source": [
    "#Pull Raw Data\n",
    "fred.get_series('SP500')"
   ]
  },
  {
   "cell_type": "code",
   "execution_count": null,
   "id": "9463f696",
   "metadata": {},
   "outputs": [],
   "source": []
  }
 ],
 "metadata": {
  "kernelspec": {
   "display_name": "Python 3 (ipykernel)",
   "language": "python",
   "name": "python3"
  },
  "language_info": {
   "codemirror_mode": {
    "name": "ipython",
    "version": 3
   },
   "file_extension": ".py",
   "mimetype": "text/x-python",
   "name": "python",
   "nbconvert_exporter": "python",
   "pygments_lexer": "ipython3",
   "version": "3.11.7"
  }
 },
 "nbformat": 4,
 "nbformat_minor": 5
}
